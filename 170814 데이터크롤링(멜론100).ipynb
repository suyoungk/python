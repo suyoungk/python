{
 "cells": [
  {
   "cell_type": "markdown",
   "metadata": {},
   "source": [
    "## 170814\n",
    "\n",
    "# 데이터 크롤링"
   ]
  },
  {
   "cell_type": "code",
   "execution_count": 10,
   "metadata": {},
   "outputs": [],
   "source": [
    "import requests\n",
    "from bs4 import BeautifulSoup\n",
    "\n",
    "url = \"http://www.melon.com/chart/index.htm\"\n",
    "html = requests.get(url).text"
   ]
  },
  {
   "cell_type": "code",
   "execution_count": 11,
   "metadata": {},
   "outputs": [
    {
     "name": "stdout",
     "output_type": "stream",
     "text": [
      "1 에너제틱 (Energetic)\n",
      "2 N분의1 (Feat. 다이나믹듀오)\n",
      "3 비도 오고 그래서 (Feat. 신용재)\n",
      "4 요즘것들 (Feat. ZICO, DEAN)\n",
      "5 활활 (Burn It Up)\n",
      "6 빨간 맛 (Red Flavor)\n",
      "7 좋니\n",
      "8 매일 듣는 노래 (A Daily Song)\n",
      "9 Ko Ko Bop\n",
      "10 마지막처럼\n",
      "11 Wanna Be (My Baby)\n",
      "12 널 너무 모르고\n",
      "13 Artist\n",
      "14 이 자리에 (Acoustic Ver.)\n",
      "15 LOVE ME LOVE ME\n",
      "16 남이 될 수 있을까\n",
      "17 귀를 기울이면 (LOVE WHISPER)\n",
      "18 밤편지\n",
      "19 나로 말할 것 같으면 (Yes I am)\n",
      "20 어디 (Feat. DEAN, 지코(ZICO))\n",
      "21 To Be One (Intro.)\n",
      "22 Shape of You\n",
      "23 전야 (前夜) (The Eve)\n",
      "24 처음부터 너와 나\n",
      "25 무제(無題) (Untitled, 2014)\n",
      "26 사랑하지 않은 것처럼\n",
      "27 Holiday\n",
      "28 FIVE\n",
      "29 What U do?\n",
      "30 FANXY CHILD (Feat. FANXY CHILD)\n",
      "31 Forever\n",
      "32 기억을 걷는 밤 (Walk On Memories)\n",
      "33 REALLY REALLY\n",
      "34 팔레트 (Feat. G-DRAGON)\n",
      "35 있다면\n",
      "36 DINOSAUR\n",
      "37 New Face\n",
      "38 너의 손짓 (Touch It)\n",
      "39 오늘 취하면 (Feat. 창모) (Prod. SUGA)\n",
      "40 Why Don`t You Know (Feat. 넉살)\n",
      "41 다이아몬드 (Diamond)\n",
      "42 도박 (Life Is a Gamble) (Feat. 박재범, Dok2)\n",
      "43 소름 (Chill)\n",
      "44 내가 미쳐 (Going Crazy)\n",
      "45 여보세요\n",
      "46 all of my life\n",
      "47 SIGNAL\n",
      "48 로비로모여 (Feat. 다이나믹듀오, 청하, 뮤지)\n",
      "49 첫눈처럼 너에게 가겠다\n",
      "50 아침에 (Feat. Bryn)\n",
      "51 미치고 싶다\n",
      "52 Marry Me\n",
      "53 D (half moon) (Feat. 개코)\n",
      "54 BLUE MOON (Prod. GroovyRoom)\n",
      "55 NEVER\n",
      "56 돌아오지마 (Feat. 용준형 Of 비스트)\n",
      "57 사랑이 잘 (With 오혁)\n",
      "58 I LUV IT\n",
      "59 불장난\n",
      "60 좋다고 말해\n",
      "61 Closer (Feat. Halsey)\n",
      "62 All I Wanna Do (K) (Feat. Hoody, Loco)\n",
      "63 나만 안되는 연애\n",
      "64 봄날\n",
      "65 Love Yourself\n",
      "66 아름다워\n",
      "67 Something Just Like This\n",
      "68 우주를 줄게\n",
      "69 너였다면\n",
      "70 TOMBOY\n",
      "71 어디에도\n",
      "72 KNOCK KNOCK\n",
      "73 부담이 돼 (Feat. 휘인 Of 마마무)\n",
      "74 맞지?\n",
      "75 소나기\n",
      "76 LONELY\n",
      "77 나야 나 (PICK ME)\n",
      "78 그대라는 사치\n",
      "79 바람이 불었으면 좋겠어\n",
      "80 오랜 날 오랜 밤\n",
      "81 ISLAND\n",
      "82 사랑앓이 (With 김나영)\n",
      "83 어땠을까 (Feat. 박정현)\n",
      "84 Decalcomanie (데칼코마니)\n",
      "85 Love Paint (every afternoon)\n",
      "86 TT\n",
      "87 Look (a starlight night)\n",
      "88 얼굴 찌푸리지 말아요\n",
      "89 All Night\n",
      "90 오빠야\n",
      "91 작두 (Feat. 넉살, Huckleberry P)\n",
      "92 젓가락 (Feat. Tiger JK, Bizzy, Ann One)\n",
      "93 그럴걸\n",
      "94 심술\n",
      "95 여왕의 기사\n",
      "96 피 땀 눈물\n",
      "97 CALLING YOU\n",
      "98 Daybreak (Minhyun&JR;)\n",
      "99 See You Again (폴 워커 추모 엔딩곡)\n",
      "100 한 편의 너\n"
     ]
    }
   ],
   "source": [
    "soup = BeautifulSoup(html, 'html.parser')\n",
    "tag_list = soup.select('#chartListObj tr .wrap_song_info a[href*=playSong]')\n",
    "for idx, tag in enumerate(tag_list, 1):\n",
    "    print(idx, tag.text)"
   ]
  },
  {
   "cell_type": "code",
   "execution_count": null,
   "metadata": {
    "collapsed": true
   },
   "outputs": [],
   "source": []
  }
 ],
 "metadata": {
  "kernelspec": {
   "display_name": "Python 3",
   "language": "python",
   "name": "python3"
  },
  "language_info": {
   "codemirror_mode": {
    "name": "ipython",
    "version": 3
   },
   "file_extension": ".py",
   "mimetype": "text/x-python",
   "name": "python",
   "nbconvert_exporter": "python",
   "pygments_lexer": "ipython3",
   "version": "3.6.1"
  }
 },
 "nbformat": 4,
 "nbformat_minor": 2
}
