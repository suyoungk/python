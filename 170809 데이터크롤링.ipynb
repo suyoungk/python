{
 "cells": [
  {
   "cell_type": "markdown",
   "metadata": {},
   "source": [
    "## 레벨1 HTML 크롤링"
   ]
  },
  {
   "cell_type": "code",
   "execution_count": 1,
   "metadata": {
    "collapsed": true
   },
   "outputs": [],
   "source": [
    "import requests #웹서버에 정보를 요청하는 라이브러리\n",
    "from bs4 import BeautifulSoup"
   ]
  },
  {
   "cell_type": "code",
   "execution_count": 27,
   "metadata": {},
   "outputs": [
    {
     "data": {
      "text/plain": [
       "<!DOCTYPE doctype html>\n",
       "\n",
       "<html lang=\"ko\">\n",
       "<head>\n",
       "<meta charset=\"utf-8\"/>\n",
       "<title>[레벨1] 단순 HTML 크롤링</title>\n",
       "<style>\n",
       "#logo {\n",
       "    max-width: 100%;\n",
       "}\n",
       "</style>\n",
       "</head>\n",
       "<body>\n",
       "<h1>AskDjango VOD</h1>\n",
       "<h2>[레벨1] 단순 HTML 크롤링</h2>\n",
       "<p>본 HTML에 크롤링할 데이터가 있습니다.</p>\n",
       "<ul id=\"course_list\">\n",
       "<li class=\"course\"><a href=\"https://nomade.kr/vod/setup/\">개발환경 구축하기</a></li>\n",
       "<li class=\"course\"><a href=\"https://nomade.kr/vod/python/\">파이썬 차근차근 시작하기</a></li>\n",
       "<li class=\"course\"><a href=\"https://nomade.kr/vod/crawling/\">크롤링 차근차근 시작하기</a></li>\n",
       "<li class=\"course\"><a href=\"https://nomade.kr/vod/automation/\">파이썬으로 업무 자동화</a></li>\n",
       "<li class=\"course\"><a href=\"https://nomade.kr/vod/django/\">장고 - 기본편</a></li>\n",
       "<li class=\"course\"><a href=\"https://nomade.kr/vod/djangogirls/\">장고걸스 튜토리얼</a></li>\n",
       "<li class=\"course\"><a href=\"https://nomade.kr/vod/form/\">장고 - Form/ModelForm 잘 알고 쓰기</a></li>\n",
       "<li class=\"course\"><a href=\"https://nomade.kr/vod/cbv/\">장고 - 클래스 기반 뷰. 잘 알고 쓰기</a></li>\n",
       "<li class=\"course\"><a href=\"https://nomade.kr/vod/payment/\">장고 - 결제 시스템 연동</a></li>\n",
       "<li class=\"course\"><a href=\"https://nomade.kr/vod/frontend/\">장고 - 웹 프론트엔드 시작편</a></li>\n",
       "<li class=\"course\"><a href=\"https://nomade.kr/vod/widgets/\">장고 - 다양한 위젯 만들기</a></li>\n",
       "<li class=\"course\"><a href=\"https://nomade.kr/vod/apiserver/\">장고 - API 서버 만들기 및 초간단 안드로이드 앱 만들기</a></li>\n",
       "<li class=\"course\"><a href=\"https://nomade.kr/vod/hybrid/\">장고 - 하이브리드 앱 만들기</a></li>\n",
       "<li class=\"course\"><a href=\"https://nomade.kr/vod/deploy/\">장고 - 서비스 배포하기</a></li>\n",
       "<li class=\"course\"><a href=\"https://nomade.kr/vod/django-baemin/\">장고 - 실전편 (Feat. 배달의 민족 St. 만들기)</a></li>\n",
       "<li class=\"course\"><a href=\"https://nomade.kr/vod/django-instagram/\">장고 - 실전편 (Feat. 인스타그램 St. 만들기)</a></li>\n",
       "</ul>\n",
       "<img id=\"logo\" src=\"https://nomade.kr/static/2017031408/nomadekr-og.jpg\"/>\n",
       "<hr/>\n",
       "<h3>미션</h3>\n",
       "<ul>\n",
       "<li>위 VOD 코스의 코스명과 URL을 크롤링</li>\n",
       "<li>제약사항 : requests 라이브러리만을 사용하세요.</li>\n",
       "</ul>\n",
       "\n",
       "실행 예시\n",
       "\n",
       "<pre>\n",
       "    개발환경 구축하기 https://nomade.kr/vod/setup/\n",
       "    파이썬 차근차근 시작하기 https://nomade.kr/vod/python/\n",
       "    크롤링 차근차근 시작하기 https://nomade.kr/vod/crawling/\n",
       "    파이썬으로 업무 자동화 https://nomade.kr/vod/automation/\n",
       "    장고 - 기본편 https://nomade.kr/vod/django/\n",
       "    장고걸스 튜토리얼 https://nomade.kr/vod/djangogirls/\n",
       "    장고 - Form/ModelForm 잘 알고 쓰기 https://nomade.kr/vod/form/\n",
       "    장고 - 클래스 기반 뷰. 잘 알고 쓰기 https://nomade.kr/vod/cbv/\n",
       "    장고 - 결제 시스템 연동 https://nomade.kr/vod/payment/\n",
       "    장고 - 웹 프론트엔드 시작편 https://nomade.kr/vod/frontend/\n",
       "    장고 - 다양한 위젯 만들기 https://nomade.kr/vod/widgets/\n",
       "    장고 - API 서버 만들기 및 초간단 안드로이드 앱 만들기 https://nomade.kr/vod/apiserver/\n",
       "    장고 - 하이브리드 앱 만들기 https://nomade.kr/vod/hybrid/\n",
       "    장고 - 서비스 배포하기 https://nomade.kr/vod/deploy/\n",
       "    장고 - 실전편 (Feat. 배달의 민족 St. 만들기) https://nomade.kr/vod/django-baemin/\n",
       "    장고 - 실전편 (Feat. 인스타그램 St. 만들기) https://nomade.kr/vod/django-instagram/\n",
       "</pre>\n",
       "<p>AskDjango 크롤링 VOD를 통해 크롤링의 기본을 배우고, 꾸준히 크롤링을 연습해보세요.</p>\n",
       "<hr/>\n",
       "<p><a href=\"/\">home</a></p>\n",
       "<p>\n",
       "    여러분의 파이썬/장고 페이스메이커가 되겠습니다. &amp;dash; <a href=\"https://nomade.kr/vod/\">AskDjango VOD</a>\n",
       "</p>\n",
       "<p>\n",
       "    ©\n",
       "    <script>document.write((new Date()).getYear() + 1900);</script>\n",
       "    SHAKEADE\n",
       "</p>\n",
       "</body>\n",
       "</html>"
      ]
     },
     "execution_count": 27,
     "metadata": {},
     "output_type": "execute_result"
    }
   ],
   "source": [
    "lv1_url = 'http://askdjango.github.io/lv1/'\n",
    "html = requests.get(lv1_url).text #조회용도로 정보를 요청한다. .text는 이 중 text 영역 정보만 요청\n",
    "\n",
    "soup = BeautifulSoup(html, 'html.parser')\n",
    "soup"
   ]
  },
  {
   "cell_type": "code",
   "execution_count": 12,
   "metadata": {},
   "outputs": [
    {
     "data": {
      "text/plain": [
       "[{'name': '개발환경 구축하기', 'url': 'https://nomade.kr/vod/setup/'},\n",
       " {'name': '파이썬 차근차근 시작하기', 'url': 'https://nomade.kr/vod/python/'},\n",
       " {'name': '크롤링 차근차근 시작하기', 'url': 'https://nomade.kr/vod/crawling/'},\n",
       " {'name': '파이썬으로 업무 자동화', 'url': 'https://nomade.kr/vod/automation/'},\n",
       " {'name': '장고 - 기본편', 'url': 'https://nomade.kr/vod/django/'},\n",
       " {'name': '장고걸스 튜토리얼', 'url': 'https://nomade.kr/vod/djangogirls/'},\n",
       " {'name': '장고 - Form/ModelForm 잘 알고 쓰기', 'url': 'https://nomade.kr/vod/form/'},\n",
       " {'name': '장고 - 클래스 기반 뷰. 잘 알고 쓰기', 'url': 'https://nomade.kr/vod/cbv/'},\n",
       " {'name': '장고 - 결제 시스템 연동', 'url': 'https://nomade.kr/vod/payment/'},\n",
       " {'name': '장고 - 웹 프론트엔드 시작편', 'url': 'https://nomade.kr/vod/frontend/'},\n",
       " {'name': '장고 - 다양한 위젯 만들기', 'url': 'https://nomade.kr/vod/widgets/'},\n",
       " {'name': '장고 - API 서버 만들기 및 초간단 안드로이드 앱 만들기',\n",
       "  'url': 'https://nomade.kr/vod/apiserver/'},\n",
       " {'name': '장고 - 하이브리드 앱 만들기', 'url': 'https://nomade.kr/vod/hybrid/'},\n",
       " {'name': '장고 - 서비스 배포하기', 'url': 'https://nomade.kr/vod/deploy/'},\n",
       " {'name': '장고 - 실전편 (Feat. 배달의 민족 St. 만들기)',\n",
       "  'url': 'https://nomade.kr/vod/django-baemin/'},\n",
       " {'name': '장고 - 실전편 (Feat. 인스타그램 St. 만들기)',\n",
       "  'url': 'https://nomade.kr/vod/django-instagram/'}]"
      ]
     },
     "execution_count": 12,
     "metadata": {},
     "output_type": "execute_result"
    }
   ],
   "source": [
    "## 레벨2\n",
    "import json\n",
    "import requests\n",
    "\n",
    "lv2_url = 'https://askdjango.github.io/lv2/data.json' #크롤링할 주소의 json파일명\n",
    "json_string = requests.get(lv2_url).text\n",
    "\n",
    "course_list = json.loads(json_string)\n",
    "course_list\n",
    "\n"
   ]
  },
  {
   "cell_type": "code",
   "execution_count": 13,
   "metadata": {},
   "outputs": [
    {
     "name": "stdout",
     "output_type": "stream",
     "text": [
      "개발환경 구축하기 https://nomade.kr/vod/setup/\n",
      "파이썬 차근차근 시작하기 https://nomade.kr/vod/python/\n",
      "크롤링 차근차근 시작하기 https://nomade.kr/vod/crawling/\n",
      "파이썬으로 업무 자동화 https://nomade.kr/vod/automation/\n",
      "장고 - 기본편 https://nomade.kr/vod/django/\n",
      "장고걸스 튜토리얼 https://nomade.kr/vod/djangogirls/\n",
      "장고 - Form/ModelForm 잘 알고 쓰기 https://nomade.kr/vod/form/\n",
      "장고 - 클래스 기반 뷰. 잘 알고 쓰기 https://nomade.kr/vod/cbv/\n",
      "장고 - 결제 시스템 연동 https://nomade.kr/vod/payment/\n",
      "장고 - 웹 프론트엔드 시작편 https://nomade.kr/vod/frontend/\n",
      "장고 - 다양한 위젯 만들기 https://nomade.kr/vod/widgets/\n",
      "장고 - API 서버 만들기 및 초간단 안드로이드 앱 만들기 https://nomade.kr/vod/apiserver/\n",
      "장고 - 하이브리드 앱 만들기 https://nomade.kr/vod/hybrid/\n",
      "장고 - 서비스 배포하기 https://nomade.kr/vod/deploy/\n",
      "장고 - 실전편 (Feat. 배달의 민족 St. 만들기) https://nomade.kr/vod/django-baemin/\n",
      "장고 - 실전편 (Feat. 인스타그램 St. 만들기) https://nomade.kr/vod/django-instagram/\n"
     ]
    }
   ],
   "source": [
    "## 레벨2\n",
    "import json\n",
    "import requests\n",
    "\n",
    "lv2_url = 'https://askdjango.github.io/lv2/data.json' #크롤링할 주소의 json파일명\n",
    "json_string = requests.get(lv2_url).text\n",
    "\n",
    "course_list = json.loads(json_string)\n",
    "course_list\n",
    "\n",
    "for course in course_list:\n",
    "    print(course['name'], course['url'])"
   ]
  },
  {
   "cell_type": "code",
   "execution_count": 22,
   "metadata": {},
   "outputs": [
    {
     "data": {
      "text/plain": [
       "'[\\n        {\"name\": \"개발환경 구축하기\", \"url\": \"https://nomade.kr/vod/setup/\"},\\n        {\"name\": \"파이썬 차근차근 시작하기\", \"url\": \"https://nomade.kr/vod/python/\"},\\n        {\"name\": \"크롤링 차근차근 시작하기\", \"url\": \"https://nomade.kr/vod/crawling/\"},\\n        {\"name\": \"파이썬으로 업무 자동화\", \"url\": \"https://nomade.kr/vod/automation/\"},\\n        {\"name\": \"장고 - 기본편\", \"url\": \"https://nomade.kr/vod/django/\"},\\n        {\"name\": \"장고걸스 튜토리얼\", \"url\": \"https://nomade.kr/vod/djangogirls/\"},\\n        {\"name\": \"장고 - Form/ModelForm 잘 알고 쓰기\", \"url\": \"https://nomade.kr/vod/form/\"},\\n        {\"name\": \"장고 - 클래스 기반 뷰. 잘 알고 쓰기\", \"url\": \"https://nomade.kr/vod/cbv/\"},\\n        {\"name\": \"장고 - 결제 시스템 연동\", \"url\": \"https://nomade.kr/vod/payment/\"},\\n        {\"name\": \"장고 - 웹 프론트엔드 시작편\", \"url\": \"https://nomade.kr/vod/frontend/\"},\\n        {\"name\": \"장고 - 다양한 위젯 만들기\", \"url\": \"https://nomade.kr/vod/widgets/\"},\\n        {\"name\": \"장고 - API 서버 만들기 및 초간단 안드로이드 앱 만들기\", \"url\": \"https://nomade.kr/vod/apiserver/\"},\\n        {\"name\": \"장고 - 하이브리드 앱 만들기\", \"url\": \"https://nomade.kr/vod/hybrid/\"},\\n        {\"name\": \"장고 - 서비스 배포하기\", \"url\": \"https://nomade.kr/vod/deploy/\"},\\n        {\"name\": \"장고 - 실전편 (Feat. 배달의 민족 St. 만들기)\", \"url\": \"https://nomade.kr/vod/django-baemin/\"},\\n        {\"name\": \"장고 - 실전편 (Feat. 인스타그램 St. 만들기)\", \"url\": \"https://nomade.kr/vod/django-instagram/\"}\\n    ]'"
      ]
     },
     "execution_count": 22,
     "metadata": {},
     "output_type": "execute_result"
    }
   ],
   "source": [
    "## 레벨3\n",
    "import json\n",
    "import re\n",
    "import requests\n",
    "\n",
    "lv3_url = 'https://askdjango.github.io/lv3/'\n",
    "html = requests.get(lv3_url).text\n",
    "\n",
    "matched = re.search(r'var courses = (.+?);', html, re.S)\n",
    "json_string = matched.group(1)\n",
    "json_string"
   ]
  },
  {
   "cell_type": "code",
   "execution_count": 23,
   "metadata": {},
   "outputs": [
    {
     "data": {
      "text/plain": [
       "[{'name': '개발환경 구축하기', 'url': 'https://nomade.kr/vod/setup/'},\n",
       " {'name': '파이썬 차근차근 시작하기', 'url': 'https://nomade.kr/vod/python/'},\n",
       " {'name': '크롤링 차근차근 시작하기', 'url': 'https://nomade.kr/vod/crawling/'},\n",
       " {'name': '파이썬으로 업무 자동화', 'url': 'https://nomade.kr/vod/automation/'},\n",
       " {'name': '장고 - 기본편', 'url': 'https://nomade.kr/vod/django/'},\n",
       " {'name': '장고걸스 튜토리얼', 'url': 'https://nomade.kr/vod/djangogirls/'},\n",
       " {'name': '장고 - Form/ModelForm 잘 알고 쓰기', 'url': 'https://nomade.kr/vod/form/'},\n",
       " {'name': '장고 - 클래스 기반 뷰. 잘 알고 쓰기', 'url': 'https://nomade.kr/vod/cbv/'},\n",
       " {'name': '장고 - 결제 시스템 연동', 'url': 'https://nomade.kr/vod/payment/'},\n",
       " {'name': '장고 - 웹 프론트엔드 시작편', 'url': 'https://nomade.kr/vod/frontend/'},\n",
       " {'name': '장고 - 다양한 위젯 만들기', 'url': 'https://nomade.kr/vod/widgets/'},\n",
       " {'name': '장고 - API 서버 만들기 및 초간단 안드로이드 앱 만들기',\n",
       "  'url': 'https://nomade.kr/vod/apiserver/'},\n",
       " {'name': '장고 - 하이브리드 앱 만들기', 'url': 'https://nomade.kr/vod/hybrid/'},\n",
       " {'name': '장고 - 서비스 배포하기', 'url': 'https://nomade.kr/vod/deploy/'},\n",
       " {'name': '장고 - 실전편 (Feat. 배달의 민족 St. 만들기)',\n",
       "  'url': 'https://nomade.kr/vod/django-baemin/'},\n",
       " {'name': '장고 - 실전편 (Feat. 인스타그램 St. 만들기)',\n",
       "  'url': 'https://nomade.kr/vod/django-instagram/'}]"
      ]
     },
     "execution_count": 23,
     "metadata": {},
     "output_type": "execute_result"
    }
   ],
   "source": [
    "course_list = json.loads(json_string)\n",
    "course_list"
   ]
  },
  {
   "cell_type": "code",
   "execution_count": 24,
   "metadata": {},
   "outputs": [
    {
     "name": "stdout",
     "output_type": "stream",
     "text": [
      "개발환경 구축하기 https://nomade.kr/vod/setup/\n",
      "파이썬 차근차근 시작하기 https://nomade.kr/vod/python/\n",
      "크롤링 차근차근 시작하기 https://nomade.kr/vod/crawling/\n",
      "파이썬으로 업무 자동화 https://nomade.kr/vod/automation/\n",
      "장고 - 기본편 https://nomade.kr/vod/django/\n",
      "장고걸스 튜토리얼 https://nomade.kr/vod/djangogirls/\n",
      "장고 - Form/ModelForm 잘 알고 쓰기 https://nomade.kr/vod/form/\n",
      "장고 - 클래스 기반 뷰. 잘 알고 쓰기 https://nomade.kr/vod/cbv/\n",
      "장고 - 결제 시스템 연동 https://nomade.kr/vod/payment/\n",
      "장고 - 웹 프론트엔드 시작편 https://nomade.kr/vod/frontend/\n",
      "장고 - 다양한 위젯 만들기 https://nomade.kr/vod/widgets/\n",
      "장고 - API 서버 만들기 및 초간단 안드로이드 앱 만들기 https://nomade.kr/vod/apiserver/\n",
      "장고 - 하이브리드 앱 만들기 https://nomade.kr/vod/hybrid/\n",
      "장고 - 서비스 배포하기 https://nomade.kr/vod/deploy/\n",
      "장고 - 실전편 (Feat. 배달의 민족 St. 만들기) https://nomade.kr/vod/django-baemin/\n",
      "장고 - 실전편 (Feat. 인스타그램 St. 만들기) https://nomade.kr/vod/django-instagram/\n"
     ]
    }
   ],
   "source": [
    "for course in course_list:\n",
    "    print('{name} {url}'.format(**course))"
   ]
  },
  {
   "cell_type": "code",
   "execution_count": null,
   "metadata": {
    "collapsed": true
   },
   "outputs": [],
   "source": []
  }
 ],
 "metadata": {
  "kernelspec": {
   "display_name": "Python 3",
   "language": "python",
   "name": "python3"
  },
  "language_info": {
   "codemirror_mode": {
    "name": "ipython",
    "version": 3
   },
   "file_extension": ".py",
   "mimetype": "text/x-python",
   "name": "python",
   "nbconvert_exporter": "python",
   "pygments_lexer": "ipython3",
   "version": "3.6.1"
  }
 },
 "nbformat": 4,
 "nbformat_minor": 2
}
